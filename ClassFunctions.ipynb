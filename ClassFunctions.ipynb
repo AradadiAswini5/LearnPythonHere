{
 "cells": [
  {
   "cell_type": "code",
   "execution_count": null,
   "id": "ce62689d-4d7e-4edf-9ad6-09d4a63cd3fa",
   "metadata": {},
   "outputs": [],
   "source": [
    "#Create a class and function, and list out the items in the list"
   ]
  },
  {
   "cell_type": "code",
   "execution_count": null,
   "id": "f48bdfb5-2df5-40f5-817c-2f5ff24c7a8e",
   "metadata": {},
   "outputs": [],
   "source": [
    "#static method-no slef, no class"
   ]
  },
  {
   "cell_type": "code",
   "execution_count": null,
   "id": "9aaadfd8-f33f-4a23-a415-96fe6226eea8",
   "metadata": {},
   "outputs": [],
   "source": [
    "print (\"Subfields in AI are\")\n",
    "lists = [\"Machine Learning, Neural Networks, Vision, Robotics, Speech Processing, Natural Language Processing\"]\n",
    "class subfieldsinAI:\n",
    " def subFields():\n",
    "  for result in lists:\n",
    "   print(result)\n",
    "subfieldsinAI.subFields()\n"
   ]
  },
  {
   "cell_type": "code",
   "execution_count": null,
   "id": "98568224-878e-4983-9feb-38d44fae3546",
   "metadata": {},
   "outputs": [],
   "source": [
    "#instance method-needs object"
   ]
  },
  {
   "cell_type": "code",
   "execution_count": null,
   "id": "cc8a0373-d915-40be-9cd8-87578025265c",
   "metadata": {},
   "outputs": [],
   "source": [
    "print (\"Subfields in AI are\")\n",
    "lists = [\"Machine Learning, Neural Networks, Vision, Robotics, Speech Processing, Natural Language Processing\"]\n",
    "class subfieldsinAI:\n",
    " def subFields(self):\n",
    "  for result in lists:\n",
    "   print(result)\n",
    "my_fields=subfieldsinAI()\n",
    "my_fields.subFields()"
   ]
  },
  {
   "cell_type": "code",
   "execution_count": null,
   "id": "08d64853-a9f5-40cf-9a5d-99e89733d39d",
   "metadata": {},
   "outputs": [],
   "source": [
    "# Create a function that checks whether the given number is Odd or Even"
   ]
  },
  {
   "cell_type": "code",
   "execution_count": null,
   "id": "86b7b8d8-33f5-4427-9617-042d8da1bbfb",
   "metadata": {},
   "outputs": [],
   "source": [
    "class OddEven:\n",
    " def OddEven(self):\n",
    "  number=int(input(\"Enter number to check:\"))\n",
    "  if (number%2==0):\n",
    "    print (number,\"is Even Number\")\n",
    "  else:\n",
    "    print(number,\"is Odd Number\")\n",
    "object=OddEven()\n",
    "OddEven.OddEven(1)"
   ]
  },
  {
   "cell_type": "code",
   "execution_count": null,
   "id": "77e0100c-cf72-4a91-86b0-f8dc5b8b67d9",
   "metadata": {},
   "outputs": [],
   "source": [
    "# Create a function that tells elegibility of marriage for male and female according to their age limit "
   ]
  },
  {
   "cell_type": "code",
   "execution_count": null,
   "id": "2e730d0f-b119-4421-8038-9e275d47018e",
   "metadata": {},
   "outputs": [],
   "source": [
    "def eligibility (self):\n",
    "    gender=input(\"Enter Gender:\")\n",
    "    age=int(input(\"Enter Age:\"))\n",
    "    if (gender == \"Female\"):\n",
    "            if (age>=18):\n",
    "               print (\"Eligible\")\n",
    "            else:\n",
    "               print(\"Not Eligible\")\n",
    "    elif (gender == \"male\"):\n",
    "       if (age>=21):\n",
    "         print(\"Eligible\")\n",
    "       else:\n",
    "         print(\"Not Eligible\")\n",
    "eligibility (1)\n",
    "\n",
    "    "
   ]
  },
  {
   "cell_type": "code",
   "execution_count": null,
   "id": "d3efa8d0-73e4-41c0-85a5-9b77e9daa012",
   "metadata": {},
   "outputs": [],
   "source": [
    "# calculate the percentage of your 10th mark"
   ]
  },
  {
   "cell_type": "code",
   "execution_count": null,
   "id": "21c0ab54-373f-429a-b223-e706523f49b5",
   "metadata": {
    "scrolled": true
   },
   "outputs": [],
   "source": [
    "Subject1=int(input(\"Enter Subject 1:\"))\n",
    "Subject2=int(input(\"Enter Subject 2:\"))\n",
    "Subject3=int(input(\"Enter Subject 3:\"))\n",
    "Subject4=int(input(\"Enter Subject 4:\"))\n",
    "Subject5=int(input(\"Enter Subject 5:\")) \n",
    "class FindPercent:\n",
    " def totalmarks(self):\n",
    "    total=Subject1+Subject2+Subject3+Subject4+Subject5\n",
    "    return total\n",
    "total=totalmarks(1)\n",
    "object=FindPercent()\n",
    "FindPercent.totalmarks(1)\n",
    "print(\"Total:\", total)\n",
    "percent=(total/500)*100\n",
    "print(\"Percentage:\",percent)\n"
   ]
  },
  {
   "cell_type": "code",
   "execution_count": null,
   "id": "38f22788-7d01-48b8-8682-26027098d572",
   "metadata": {},
   "outputs": [],
   "source": [
    "#print area and perimeter of triangle using class and functions"
   ]
  },
  {
   "cell_type": "code",
   "execution_count": 27,
   "id": "04571943-8597-4afb-9ac6-ad611d985fb0",
   "metadata": {
    "scrolled": true
   },
   "outputs": [
    {
     "name": "stdin",
     "output_type": "stream",
     "text": [
      "Enter length of triangle: 32\n",
      "Enter breadth of triangle: 34\n"
     ]
    },
    {
     "name": "stdout",
     "output_type": "stream",
     "text": [
      "Area of Triangle: 544.0\n"
     ]
    },
    {
     "name": "stdin",
     "output_type": "stream",
     "text": [
      "Enter Height1 of triangle: 2\n",
      "Enter height2 of triangle: 4\n",
      "Enter breadth of triangle: 4\n"
     ]
    },
    {
     "name": "stdout",
     "output_type": "stream",
     "text": [
      "Perimeter of Triangle: 10\n"
     ]
    }
   ],
   "source": [
    "length=int(input(\"Enter length of triangle:\"))\n",
    "breadth=int(input(\"Enter breadth of triangle:\"))\n",
    "class triangle:\n",
    " def area(self):\n",
    "        all = (length*breadth)/2\n",
    "        print(\"Area of Triangle:\",all)\n",
    " area(1)\n",
    "height1=int(input(\"Enter Height1 of triangle:\"))\n",
    "height2=int(input(\"Enter height2 of triangle:\"))\n",
    "breadth=int(input(\"Enter breadth of triangle:\"))\n",
    "def perimeter(self):\n",
    "        peri = (height1+height2+breadth)\n",
    "        print(\"Perimeter of Triangle:\",peri)\n",
    "perimeter(1)\n",
    "object=triangle()"
   ]
  },
  {
   "cell_type": "code",
   "execution_count": null,
   "id": "da0abd12-16e8-4617-b46f-fad3cf27aa7b",
   "metadata": {},
   "outputs": [],
   "source": []
  },
  {
   "cell_type": "code",
   "execution_count": null,
   "id": "343ec54b-9ef8-4bd9-8871-24ccd4e3d2a9",
   "metadata": {},
   "outputs": [],
   "source": []
  }
 ],
 "metadata": {
  "kernelspec": {
   "display_name": "Python [conda env:base] *",
   "language": "python",
   "name": "conda-base-py"
  },
  "language_info": {
   "codemirror_mode": {
    "name": "ipython",
    "version": 3
   },
   "file_extension": ".py",
   "mimetype": "text/x-python",
   "name": "python",
   "nbconvert_exporter": "python",
   "pygments_lexer": "ipython3",
   "version": "3.13.5"
  }
 },
 "nbformat": 4,
 "nbformat_minor": 5
}
