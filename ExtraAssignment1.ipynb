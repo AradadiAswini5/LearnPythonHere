{
 "cells": [
  {
   "cell_type": "code",
   "execution_count": 1,
   "id": "25ff0b8b-0655-4269-bb96-2d000f30aca8",
   "metadata": {},
   "outputs": [
    {
     "name": "stdout",
     "output_type": "stream",
     "text": [
      "HOPE AI\n"
     ]
    }
   ],
   "source": [
    "print(\"HOPE AI\")"
   ]
  },
  {
   "cell_type": "code",
   "execution_count": 2,
   "id": "66944cef-946a-4018-846f-acdb2404a4ee",
   "metadata": {},
   "outputs": [
    {
     "name": "stdin",
     "output_type": "stream",
     "text": [
      "Enter your institute name: Hope AI\n"
     ]
    }
   ],
   "source": [
    "name=(input(\"Enter your institute name:\"))"
   ]
  },
  {
   "cell_type": "code",
   "execution_count": 3,
   "id": "fbc76d1d-07c0-4827-b2ee-116d082d8b12",
   "metadata": {},
   "outputs": [
    {
     "name": "stdin",
     "output_type": "stream",
     "text": [
      "Enter your name: Aswini\n",
      "Enter your age: 27\n",
      "Enter your school name: HopeAI\n",
      "Enter your degree: Master AI Course\n"
     ]
    }
   ],
   "source": [
    "name=(input(\"Enter your name:\"))\n",
    "age=(input(\"Enter your age:\"))\n",
    "school=(input(\"Enter your school name:\"))\n",
    "degree=(input(\"Enter your degree:\"))\n"
   ]
  },
  {
   "cell_type": "code",
   "execution_count": 5,
   "id": "31198797-0c8b-4bfd-9ba6-487f43aa8301",
   "metadata": {},
   "outputs": [
    {
     "name": "stdin",
     "output_type": "stream",
     "text": [
      "a= 76\n",
      "b= 31\n"
     ]
    },
    {
     "name": "stdout",
     "output_type": "stream",
     "text": [
      "Floor Division= 2\n"
     ]
    }
   ],
   "source": [
    "a=int(input(\"a=\"))\n",
    "b=int(input(\"b=\"))\n",
    "result = a//b\n",
    "print(\"Floor Division=\",result)\n",
    "\n"
   ]
  },
  {
   "cell_type": "code",
   "execution_count": null,
   "id": "3a363250-5f6a-486a-aa6a-e32b8197d888",
   "metadata": {},
   "outputs": [],
   "source": []
  }
 ],
 "metadata": {
  "kernelspec": {
   "display_name": "Python [conda env:base] *",
   "language": "python",
   "name": "conda-base-py"
  },
  "language_info": {
   "codemirror_mode": {
    "name": "ipython",
    "version": 3
   },
   "file_extension": ".py",
   "mimetype": "text/x-python",
   "name": "python",
   "nbconvert_exporter": "python",
   "pygments_lexer": "ipython3",
   "version": "3.13.5"
  }
 },
 "nbformat": 4,
 "nbformat_minor": 5
}
